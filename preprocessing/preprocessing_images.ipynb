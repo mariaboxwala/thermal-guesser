{
 "cells": [
  {
   "cell_type": "code",
   "execution_count": 6,
   "id": "fa5e581b",
   "metadata": {},
   "outputs": [
    {
     "name": "stdout",
     "output_type": "stream",
     "text": [
      "Interpreter: c:\\ProgramData\\anaconda3\\python.exe\n"
     ]
    },
    {
     "data": {
      "text/plain": [
       "0"
      ]
     },
     "execution_count": 6,
     "metadata": {},
     "output_type": "execute_result"
    }
   ],
   "source": [
    "import sys, subprocess\n",
    "print(\"Interpreter:\", sys.executable)\n",
    "subprocess.check_call([sys.executable, \"-m\", \"pip\", \"install\", \"-U\", \"flirpy\", \"exifread\"])\n"
   ]
  },
  {
   "cell_type": "code",
   "execution_count": 1,
   "id": "2a40f9cb",
   "metadata": {},
   "outputs": [
    {
     "name": "stdout",
     "output_type": "stream",
     "text": [
      "flirpy: unknown  @  C:\\Users\\boxwa\\AppData\\Roaming\\Python\\Python312\\site-packages\\flirpy\\__init__.py\n",
      "None\n"
     ]
    }
   ],
   "source": [
    "import importlib, inspect\n",
    "import flirpy\n",
    "print(\"flirpy:\", getattr(flirpy, \"__version__\", \"unknown\"), \" @ \", inspect.getfile(flirpy))\n",
    "print(importlib.util.find_spec(\"flirpy.io.thermal_image\"))\n"
   ]
  },
  {
   "cell_type": "code",
   "execution_count": null,
   "id": "01db8586",
   "metadata": {},
   "outputs": [
    {
     "ename": "",
     "evalue": "",
     "output_type": "error",
     "traceback": [
      "\u001b[1;31mRunning cells with 'Python 3.12.10' requires the ipykernel package.\n",
      "\u001b[1;31m<a href='command:jupyter.createPythonEnvAndSelectController'>Create a Python Environment</a> with the required packages."
     ]
    }
   ],
   "source": [
    "# meta_from_thermal.py\n",
    "import json\n",
    "from pathlib import Path\n",
    "from flirpy.io.thermal_image import ThermalImage\n",
    "import numpy as np\n",
    "from PIL import Image\n",
    "\n",
    "def load_temp_map_c(flir_path: str) -> np.ndarray:\n",
    "    \"\"\"Return per-pixel temperatures in °C from a FLIR radiometric JPEG/TIFF.\"\"\"\n",
    "    try:\n",
    "        from flirpy.io.thermal_image import ThermalImage\n",
    "    except ImportError as e:\n",
    "        raise SystemExit(\"Please pip install flirpy\") from e\n",
    "    ti = ThermalImage(flir_path)\n",
    "    temp = ti.get_temperature()  # °C\n",
    "    return np.asarray(temp, dtype=np.float32)\n",
    "\n",
    "def build_meta(\n",
    "    flir_path: str,\n",
    "    out_json: str,\n",
    "    scale: str = \"max\",                # \"max\" or \"min\"\n",
    "    mask_png: str | None = None,       # optional binary mask: 255=keep, 0=ignore\n",
    "    firstN: int = 50                   # how many tie coordinates to store\n",
    ") -> dict:\n",
    "    T = load_temp_map_c(flir_path)\n",
    "    H, W = T.shape\n",
    "\n",
    "    # Apply mask if provided (keep=255)\n",
    "    if mask_png:\n",
    "        M = Image.open(mask_png).convert(\"L\").resize((W, H), Image.NEAREST)\n",
    "        keep = np.array(M) > 0\n",
    "    else:\n",
    "        keep = np.ones_like(T, dtype=bool)\n",
    "\n",
    "    if not np.any(keep):\n",
    "        raise ValueError(\"Mask removed all pixels—nothing left to score.\")\n",
    "\n",
    "    Tmasked = np.where(keep, T, np.nan)\n",
    "    tmin = float(np.nanmin(Tmasked))\n",
    "    tmax = float(np.nanmax(Tmasked))\n",
    "\n",
    "    if scale == \"max\":\n",
    "        target_val = tmax\n",
    "        ys, xs = np.where(Tmasked == tmax)\n",
    "    elif scale == \"min\":\n",
    "        target_val = tmin\n",
    "        ys, xs = np.where(Tmasked == tmin)\n",
    "    else:\n",
    "        raise ValueError(\"scale must be 'max' or 'min'.\")\n",
    "\n",
    "    if len(xs) == 0:\n",
    "        raise RuntimeError(\"No target pixel found after masking.\")\n",
    "\n",
    "    # Choose a canonical target (first extreme found, top-left by np.where order)\n",
    "    x0, y0 = int(xs[0]), int(ys[0])\n",
    "\n",
    "    # Collect tie coordinates as [x, y] lists\n",
    "    ties_xy = [[int(x), int(y)] for y, x in zip(ys, xs)]\n",
    "    ties_firstN = ties_xy[:firstN]\n",
    "\n",
    "    meta = {\n",
    "        \"width\": int(W),\n",
    "        \"height\": int(H),\n",
    "        \"target\": {\"x\": x0, \"y\": y0, \"tempC\": round(float(target_val), 2)},\n",
    "        \"ties\": {\"count\": int(len(ties_xy)), \"firstN\": ties_firstN},\n",
    "        \"score\": {\"dtMax\": round(tmax - tmin, 2), \"scale\": scale},\n",
    "    }\n",
    "\n",
    "    Path(out_json).write_text(json.dumps(meta, indent=2))\n",
    "    return meta\n",
    "\n",
    "# ---------- example usage ----------\n",
    "# Set these paths:\n",
    "THERMAL_PATH = \"assets\\\\puzzles\\\\01\\\\IMG_1_MRT.png\"                 # your radiometric FLIR image\n",
    "MASK_PATH    = \"assets\\\\puzzles\\\\01\\\\IMG_1_mask.png\"     # optional: the 'no-sky' mask you saved\n",
    "OUT_JSON     = \"assets\\\\puzzles\\\\01\\\\meta.json\"\n",
    "\n",
    "if __name__ == \"__main__\":\n",
    "    meta = build_meta(THERMAL_PATH, OUT_JSON, scale=\"max\", mask_png=MASK_PATH, firstN=25)\n",
    "    print(\"Wrote:\", OUT_JSON)\n",
    "    print(json.dumps(meta, indent=2))\n"
   ]
  }
 ],
 "metadata": {
  "kernelspec": {
   "display_name": "Python 3",
   "language": "python",
   "name": "python3"
  },
  "language_info": {
   "codemirror_mode": {
    "name": "ipython",
    "version": 3
   },
   "file_extension": ".py",
   "mimetype": "text/x-python",
   "name": "python",
   "nbconvert_exporter": "python",
   "pygments_lexer": "ipython3",
   "version": "3.12.10"
  }
 },
 "nbformat": 4,
 "nbformat_minor": 5
}
